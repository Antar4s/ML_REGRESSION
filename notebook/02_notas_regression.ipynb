{
 "cells": [
  {
   "cell_type": "markdown",
   "metadata": {},
   "source": [
    "# Algoritmo de Regressão Linear\n",
    "### O objetivo é prever a nota do aluno baseado em suas horas de estudo.\n",
    "<hr>"
   ]
  },
  {
   "cell_type": "markdown",
   "metadata": {},
   "source": [
    "## Importando Pacotes"
   ]
  },
  {
   "cell_type": "code",
   "execution_count": 1,
   "metadata": {},
   "outputs": [],
   "source": [
    "import pandas as pd\n",
    "import numpy as np\n",
    "import math\n",
    "import joblib\n",
    "import matplotlib.pyplot as plt\n",
    "\n",
    "from sklearn.linear_model import LinearRegression\n",
    "from sklearn import metrics"
   ]
  },
  {
   "cell_type": "markdown",
   "metadata": {},
   "source": [
    "## Carregando Dados"
   ]
  },
  {
   "cell_type": "code",
   "execution_count": 2,
   "metadata": {},
   "outputs": [],
   "source": [
    "# criando os dados manualmente, x funciona como label ( explicativa ), nesse caso, horas estudadas\n",
    "x_data = np.array([1,8,10,11,12,16,19]).reshape(-1,1)\n",
    "# a função reshape(-1,1) é para remodelar o 'x' para ter 1 coluna e muitas linhas.\n",
    "\n",
    "\n",
    "# y funciona como feature ( variável a ser predito), notas\n",
    "y_data = np.array([10,40,44,47,49,60,70])"
   ]
  },
  {
   "cell_type": "markdown",
   "metadata": {},
   "source": [
    "## Máquina Preditiva"
   ]
  },
  {
   "cell_type": "code",
   "execution_count": 3,
   "metadata": {},
   "outputs": [
    {
     "data": {
      "text/plain": [
       "LinearRegression()"
      ]
     },
     "execution_count": 3,
     "metadata": {},
     "output_type": "execute_result"
    }
   ],
   "source": [
    "predictive_machine = LinearRegression()\n",
    "predictive_machine"
   ]
  },
  {
   "cell_type": "markdown",
   "metadata": {},
   "source": [
    "## Treino"
   ]
  },
  {
   "cell_type": "code",
   "execution_count": 4,
   "metadata": {},
   "outputs": [
    {
     "data": {
      "text/plain": [
       "LinearRegression()"
      ]
     },
     "execution_count": 4,
     "metadata": {},
     "output_type": "execute_result"
    }
   ],
   "source": [
    "predictive_machine.fit(x_data, y_data)"
   ]
  },
  {
   "cell_type": "markdown",
   "metadata": {},
   "source": [
    "## Teste"
   ]
  },
  {
   "cell_type": "code",
   "execution_count": 5,
   "metadata": {},
   "outputs": [],
   "source": [
    "# utilizaremos os mesmos dados iniciais para predição do modelo\n",
    "x_pred = predictive_machine.predict(x_data)"
   ]
  },
  {
   "cell_type": "markdown",
   "metadata": {},
   "source": [
    "## Análise Gráfica dos Resultados"
   ]
  },
  {
   "cell_type": "code",
   "execution_count": 6,
   "metadata": {},
   "outputs": [
    {
     "data": {
      "image/png": "[encoded data removed]",
      "text/plain": [
       "<Figure size 432x288 with 1 Axes>"
      ]
     },
     "metadata": {
      "needs_background": "light"
     },
     "output_type": "display_data"
    }
   ],
   "source": [
    "plt.scatter(x_data, y_data)\n",
    "plt.plot(x_data, x_pred)\n",
    "plt.xlabel('x_data / Horas de Estudo')\n",
    "plt.ylabel('y_data / Notas na Prova')\n",
    "plt.show()"
   ]
  },
  {
   "cell_type": "markdown",
   "metadata": {},
   "source": [
    "## Avaliação do Modelo"
   ]
  },
  {
   "cell_type": "code",
   "execution_count": 12,
   "metadata": {},
   "outputs": [
    {
     "name": "stdout",
     "output_type": "stream",
     "text": [
      "Erro quadrático médio: 5.33\n",
      "Raiz do erro quadrático médio: 2.31\n"
     ]
    }
   ],
   "source": [
    "mse = metrics.mean_squared_error(y_data, x_pred)\n",
    "rmse = math.sqrt(mse)\n",
    "print(f'Erro quadrático médio: {mse:.2f}\\nRaiz do erro quadrático médio: {rmse:.2f}')"
   ]
  },
  {
   "cell_type": "markdown",
   "metadata": {},
   "source": [
    "## Coeficiente e Intercept dos valores"
   ]
  },
  {
   "cell_type": "code",
   "execution_count": 8,
   "metadata": {},
   "outputs": [
    {
     "name": "stdout",
     "output_type": "stream",
     "text": [
      "Equação da estimativa da nota: y=mx+b.\n",
      "Valor do coeficiente ou X da equação: [3.225]\n",
      "Valor do intercept ou B da equação: 10.239285714285721\n",
      "\n",
      "Calculemos um novo dado, 15 Horas estudas, pelo calculo da equação, deve retornar aproximadamente: 58.61.\n",
      "Vamos testar!!!\n"
     ]
    }
   ],
   "source": [
    "print(f'Equação da estimativa da nota: y=mx+b.')\n",
    "# Obtem o coeficiente da variável x ( ou a inclinação, também chamada de slope )\n",
    "print(f'Valor do coeficiente ou X da equação: {predictive_machine.coef_}\\nValor do intercept ou B da equação: {predictive_machine.intercept_}')\n",
    "print(f'\\nCalculemos um novo dado, 15 Horas estudas, pelo calculo da equação, deve retornar aproximadamente: {(3.225 * 15 + 10.239):.2f}.\\nVamos testar!!!')"
   ]
  },
  {
   "cell_type": "code",
   "execution_count": 9,
   "metadata": {},
   "outputs": [
    {
     "name": "stdout",
     "output_type": "stream",
     "text": [
      "Valor do calculo: 58.61\n",
      "Valor predito: [58.61428571]\n"
     ]
    }
   ],
   "source": [
    "new_data = np.array([15]).reshape(1,1)\n",
    "pred_new_data = predictive_machine.predict(new_data)\n",
    "\n",
    "print(f'Valor do calculo: 58.61\\nValor predito: {pred_new_data}')"
   ]
  },
  {
   "cell_type": "markdown",
   "metadata": {},
   "source": [
    "## Salvando Dados"
   ]
  },
  {
   "cell_type": "code",
   "execution_count": 10,
   "metadata": {},
   "outputs": [],
   "source": [
    "df = pd.DataFrame({'HorasEstudadas': new_data[0], 'Nota':pred_new_data[0] })\n",
    "df.to_csv('./output/02_notas_regression_model.csv', sep=\";\", index=False)"
   ]
  },
  {
   "cell_type": "markdown",
   "metadata": {},
   "source": [
    "## Salvando o Modelo"
   ]
  },
  {
   "cell_type": "code",
   "execution_count": 13,
   "metadata": {},
   "outputs": [
    {
     "data": {
      "text/plain": [
       "['./model/02_notas_regression_Model.pkl']"
      ]
     },
     "execution_count": 13,
     "metadata": {},
     "output_type": "execute_result"
    }
   ],
   "source": [
    "joblib.dump(predictive_machine, './model/02_notas_regression_Model.pkl')"
   ]
  },
  {
   "cell_type": "markdown",
   "metadata": {},
   "source": [
    "## Testando o Modelo"
   ]
  },
  {
   "cell_type": "code",
   "execution_count": 14,
   "metadata": {},
   "outputs": [
    {
     "name": "stdout",
     "output_type": "stream",
     "text": [
      "Teste de Deploy\n",
      "\n",
      "Informando 20 Horas estudadas\n",
      "Valor esperado: [74.739]\n",
      "Valor predito: [74.73928571]\n"
     ]
    }
   ],
   "source": [
    "loaded_model = joblib.load('./model/02_notas_regression_Model.pkl')\n",
    "new_data_deploy = np.array([20]).reshape(1,1)\n",
    "\n",
    "result = loaded_model.predict(new_data_deploy)\n",
    "print(f'Teste de Deploy\\n\\nInformando 20 Horas estudadas\\nValor esperado: {3.225 * new_data_deploy[0] + 10.239}\\nValor predito: {result}')"
   ]
  }
 ],
 "metadata": {
  "interpreter": {
   "hash": "75fbcf2b15bfe5a5c9161d7c88742064e1112e70088a0ac8e46191c713c0664d"
  },
  "kernelspec": {
   "display_name": "Python 3.9.7 ('base')",
   "language": "python",
   "name": "python3"
  },
  "language_info": {
   "codemirror_mode": {
    "name": "ipython",
    "version": 3
   },
   "file_extension": ".py",
   "mimetype": "text/x-python",
   "name": "python",
   "nbconvert_exporter": "python",
   "pygments_lexer": "ipython3",
   "version": "3.9.7"
  },
  "orig_nbformat": 4
 },
 "nbformat": 4,
 "nbformat_minor": 2
}
