{
 "cells": [
  {
   "cell_type": "markdown",
   "metadata": {},
   "source": [
    "# Algoritmo de Regressão Linear com XGboost\n",
    "<hr>"
   ]
  },
  {
   "cell_type": "markdown",
   "metadata": {},
   "source": [
    "## Importando Pacotes"
   ]
  },
  {
   "cell_type": "code",
   "execution_count": null,
   "metadata": {},
   "outputs": [],
   "source": [
    "import pandas as pd\n",
    "import numpy as np\n",
    "import seaborn as sns\n",
    "import joblib\n",
    "import math\n",
    "import matplotlib.pyplot as plt\n",
    "\n",
    "from sklearn.model_selection import train_test_split\n",
    "from sklearn.model_selection import cross_val_score\n",
    "from sklearn.metrics import classification_report, accuracy_score, mean_squared_error\n",
    "\n",
    "import xgboost as xgb\n",
    "\n",
    "import warnings\n",
    "warnings.filterwarnings('ignore') "
   ]
  },
  {
   "cell_type": "markdown",
   "metadata": {},
   "source": [
    "## Carregando Dados"
   ]
  },
  {
   "cell_type": "code",
   "execution_count": null,
   "metadata": {},
   "outputs": [],
   "source": [
    "df_mpg = sns.load_dataset('mpg')"
   ]
  },
  {
   "cell_type": "code",
   "execution_count": null,
   "metadata": {},
   "outputs": [],
   "source": [
    "df_mpg.head()"
   ]
  },
  {
   "cell_type": "code",
   "execution_count": null,
   "metadata": {},
   "outputs": [],
   "source": [
    "print(f'Quantidade de Linhas: {df_mpg.shape[0]}\\nQuantidade de Colunas: {df_mpg.shape[1]}')"
   ]
  },
  {
   "cell_type": "markdown",
   "metadata": {},
   "source": [
    "## Análise Exploratória"
   ]
  },
  {
   "cell_type": "code",
   "execution_count": null,
   "metadata": {},
   "outputs": [],
   "source": [
    "df_mpg.describe().T"
   ]
  },
  {
   "cell_type": "markdown",
   "metadata": {},
   "source": [
    "## Separando as bases"
   ]
  },
  {
   "cell_type": "code",
   "execution_count": null,
   "metadata": {},
   "outputs": [],
   "source": [
    "x_mpg = df_mpg.drop(['mpg','origin','name'], axis=1)\n",
    "y_mpg = df_mpg['mpg']"
   ]
  },
  {
   "cell_type": "code",
   "execution_count": null,
   "metadata": {},
   "outputs": [],
   "source": [
    "x_mpg_train, x_mpg_test, y_mpg_train, y_mpg_test = train_test_split(x_mpg, y_mpg, random_state=42)"
   ]
  },
  {
   "cell_type": "code",
   "execution_count": null,
   "metadata": {},
   "outputs": [],
   "source": [
    "print(f'Quantidade de dados para treino: {x_mpg_train.shape[0]}\\nQuantidade de dados para teste: {x_mpg_test.shape[0]}\\nTotal: {x_mpg_train.shape[0] + x_mpg_test.shape[0]}')\n",
    "print(f'\\nPorcentagem de dados para teste: {len(x_mpg_test) / len(x_mpg) *100:.2f}%')"
   ]
  },
  {
   "cell_type": "markdown",
   "metadata": {},
   "source": [
    "## Avaliando Modelos"
   ]
  },
  {
   "cell_type": "code",
   "execution_count": null,
   "metadata": {},
   "outputs": [],
   "source": [
    "regressor_xgb = xgb.XGBRegressor()\n",
    "\n",
    "resultado_cv = cross_val_score(regressor_xgb, x_mpg_train, y_mpg_train, scoring='neg_root_mean_squared_error')\n",
    "print(f'\\nResultado da avaliação: {resultado_cv}\\nErro Médio: {resultado_cv.mean():.2f}')"
   ]
  },
  {
   "cell_type": "code",
   "execution_count": null,
   "metadata": {},
   "outputs": [],
   "source": [
    "regressor_xgb_tunado = xgb.XGBRegressor(max_depth=2)\n",
    "\n",
    "resultado_cv_tunado = cross_val_score(regressor_xgb_tunado, x_mpg_train, y_mpg_train, scoring='neg_root_mean_squared_error')\n",
    "print(f'\\nResultado da avaliação: {resultado_cv_tunado}\\nErro: {resultado_cv_tunado.mean():.2f}')"
   ]
  },
  {
   "cell_type": "code",
   "execution_count": null,
   "metadata": {},
   "outputs": [],
   "source": [
    "regressor_xgb_gblinear = xgb.XGBRegressor(booster='gblinear')\n",
    "\n",
    "resultado_cv_gblinear = cross_val_score(regressor_xgb_gblinear, x_mpg_train, y_mpg_train, scoring='neg_root_mean_squared_error')\n",
    "print(f'\\nResultado da avaliação: {resultado_cv_gblinear}\\nErro: {resultado_cv_gblinear.mean():.2f}')"
   ]
  },
  {
   "cell_type": "markdown",
   "metadata": {},
   "source": [
    "## Modelo Campeão"
   ]
  },
  {
   "cell_type": "code",
   "execution_count": null,
   "metadata": {},
   "outputs": [],
   "source": [
    "# rmsle se assemelha ao neg root mean squares error\n",
    "regressor_campeao = xgb.XGBRegressor(eval_metric='rmsle')\n",
    "print(f'Objetivo: {regressor_campeao.objective}\\nTipo: {type(regressor_campeao)}')"
   ]
  },
  {
   "cell_type": "markdown",
   "metadata": {},
   "source": [
    "## Treino"
   ]
  },
  {
   "cell_type": "code",
   "execution_count": null,
   "metadata": {},
   "outputs": [],
   "source": [
    "regressor_campeao.fit(x_mpg_train, y_mpg_train)"
   ]
  },
  {
   "cell_type": "markdown",
   "metadata": {},
   "source": [
    "## Teste"
   ]
  },
  {
   "cell_type": "code",
   "execution_count": null,
   "metadata": {},
   "outputs": [],
   "source": [
    "predicoes_mpg = regressor_campeao.predict(x_mpg_test)"
   ]
  },
  {
   "cell_type": "markdown",
   "metadata": {},
   "source": [
    "## Predição"
   ]
  },
  {
   "cell_type": "code",
   "execution_count": null,
   "metadata": {},
   "outputs": [],
   "source": [
    "print(f'Predições:\\n{predicoes_mpg[:10]}\\n\\nBase de Teste:\\n{y_mpg_test[:10]}')"
   ]
  },
  {
   "cell_type": "code",
   "execution_count": null,
   "metadata": {},
   "outputs": [],
   "source": [
    "print(f'Acurácia: {regressor_campeao.score(x_mpg_test, y_mpg_test)*100:.2f}')"
   ]
  },
  {
   "cell_type": "markdown",
   "metadata": {},
   "source": [
    "## Avaliação do Modelo"
   ]
  },
  {
   "cell_type": "code",
   "execution_count": null,
   "metadata": {},
   "outputs": [],
   "source": [
    "# Para avaliarmos a qualidade do modelo de Regressão, usualmente utilizamos o RMSE (Raiz do Erro Quadrático Médio). \n",
    "# O RMSE representa a distância média entre as previsões e a linha de regressão. \n",
    "# Quanto maior o RMSE do modelo, menor é o seu desempenho, já que valores altos indicam maior quantidade de erros de predição.\n",
    "\n",
    "mse = mean_squared_error(y_mpg_test, predicoes_mpg)\n",
    "rmse = math.sqrt(mse)\n",
    "print(f'Erro quadrático médio: {mse:.2f}\\nRaiz do erro quadrático médio: {rmse:.2f}')"
   ]
  },
  {
   "cell_type": "markdown",
   "metadata": {},
   "source": [
    "## Importância das Features"
   ]
  },
  {
   "cell_type": "code",
   "execution_count": null,
   "metadata": {},
   "outputs": [],
   "source": [
    "regressor_campeao.feature_importances_\n",
    "feature_importances = pd.DataFrame(regressor_campeao.feature_importances_,\n",
    "                                   index = x_mpg_train.columns,\n",
    "                                   columns=['importance']).sort_values('importance', ascending=False)\n",
    "print(feature_importances)"
   ]
  },
  {
   "cell_type": "markdown",
   "metadata": {},
   "source": [
    "## Salvando Dados"
   ]
  },
  {
   "cell_type": "code",
   "execution_count": null,
   "metadata": {},
   "outputs": [],
   "source": [
    "df  =  x_mpg_test\n",
    "df['CombustivelPredito'] = predicoes_mpg"
   ]
  },
  {
   "cell_type": "code",
   "execution_count": null,
   "metadata": {},
   "outputs": [],
   "source": [
    "df.to_csv('./output/01_mpg_regression_Model.csv', sep=';', index=False)"
   ]
  },
  {
   "cell_type": "markdown",
   "metadata": {},
   "source": [
    "## Salvando o Modelo"
   ]
  },
  {
   "cell_type": "code",
   "execution_count": null,
   "metadata": {},
   "outputs": [],
   "source": [
    "joblib.dump(regressor_campeao, './model/01_mpg_regression_Model.pkl')"
   ]
  },
  {
   "cell_type": "markdown",
   "metadata": {},
   "source": [
    "## Testando o Modelo"
   ]
  },
  {
   "cell_type": "code",
   "execution_count": null,
   "metadata": {},
   "outputs": [],
   "source": [
    "loaded_model = joblib.load('./model/01_mpg_regression_Model.pkl')\n",
    "new_data = pd.read_csv('./data/01_mpg_regression_test_newdata.csv', delimiter=';')"
   ]
  },
  {
   "cell_type": "code",
   "execution_count": null,
   "metadata": {},
   "outputs": [],
   "source": [
    "result = loaded_model.predict(new_data)\n",
    "df_new, df_new['CombustivelPredito']= new_data, result\n",
    "df_new"
   ]
  }
 ],
 "metadata": {
  "interpreter": {
   "hash": "75fbcf2b15bfe5a5c9161d7c88742064e1112e70088a0ac8e46191c713c0664d"
  },
  "kernelspec": {
   "display_name": "Python 3.9.7 ('base')",
   "language": "python",
   "name": "python3"
  },
  "language_info": {
   "codemirror_mode": {
    "name": "ipython",
    "version": 3
   },
   "file_extension": ".py",
   "mimetype": "text/x-python",
   "name": "python",
   "nbconvert_exporter": "python",
   "pygments_lexer": "ipython3",
   "version": "3.9.7"
  },
  "orig_nbformat": 4
 },
 "nbformat": 4,
 "nbformat_minor": 2
}
